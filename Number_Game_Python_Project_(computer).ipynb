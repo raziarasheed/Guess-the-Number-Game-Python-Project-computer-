{
  "nbformat": 4,
  "nbformat_minor": 0,
  "metadata": {
    "colab": {
      "provenance": [],
      "authorship_tag": "ABX9TyNorls+rqoAISjsGczfLlhM",
      "include_colab_link": true
    },
    "kernelspec": {
      "name": "python3",
      "display_name": "Python 3"
    },
    "language_info": {
      "name": "python"
    }
  },
  "cells": [
    {
      "cell_type": "markdown",
      "metadata": {
        "id": "view-in-github",
        "colab_type": "text"
      },
      "source": [
        "<a href=\"https://colab.research.google.com/github/raziarasheed/Guess-the-Number-Game-Python-Project-computer-/blob/main/Number_Game_Python_Project_(computer).ipynb\" target=\"_parent\"><img src=\"https://colab.research.google.com/assets/colab-badge.svg\" alt=\"Open In Colab\"/></a>"
      ]
    },
    {
      "cell_type": "code",
      "execution_count": 4,
      "metadata": {
        "colab": {
          "base_uri": "https://localhost:8080/"
        },
        "id": "x8JCnZ1K8esn",
        "outputId": "bc03f95e-101d-4e2f-ccba-7c74b0a7de33"
      },
      "outputs": [
        {
          "output_type": "stream",
          "name": "stdout",
          "text": [
            "welcome to the guessing number game!\n",
            "think a number between 1 to 10 and com will be guess it\n",
            "computer guess is: 1\n",
            "Is the guess too high(H), too low(L), or correct(C)L\n",
            "Computerr's guess is : 10\n",
            "Is the guess too high(H), too low(L), or correct(C)C\n",
            "yay!the computer guess your number\n"
          ]
        }
      ],
      "source": [
        "import random\n",
        "print(\"welcome to the guessing number game!\")\n",
        "\n",
        "low =1\n",
        "high=10\n",
        "\n",
        "print(\"think a number between 1 to 10 and com will be guess it\")\n",
        "\n",
        "if low<= high:\n",
        "    guess = random.randint(low,high)\n",
        "    print (\"computer guess is:\", guess)\n",
        "\n",
        "    while True:\n",
        "        feedback = input(\"Is the guess too high(H), too low(L), or correct(C)\")\n",
        "\n",
        "        if feedback == \"C\":\n",
        "            print(\"yay!the computer guess your number\")\n",
        "            break\n",
        "        elif feedback == \"H\":\n",
        "            high = guess - 1\n",
        "            guess = random.randint(low,high)\n",
        "            print(\"Computer's guess is: \", guess)\n",
        "        elif feedback == 'L':\n",
        "            low = guess + 1\n",
        "            guess = random.randint(low,high)\n",
        "            print (\"Computerr's guess is :\" , guess)\n",
        "        else:\n",
        "            print(\"Invalid input. Please enter H, L or C.\")\n",
        "if low > high:\n",
        "    print(\"The numbr is not in the range .Please try again\")\n"
      ]
    },
    {
      "cell_type": "markdown",
      "source": [],
      "metadata": {
        "id": "wgITcLT29Ce8"
      }
    }
  ]
}